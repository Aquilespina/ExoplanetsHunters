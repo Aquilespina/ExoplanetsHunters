{
 "cells": [
  {
   "cell_type": "markdown",
   "metadata": {},
   "source": [
    "### Run the cells below and click on 'Refresh' button to start the demo.\n",
    "Toggle Next Case and Previous Case buttons to explore the cases¶"
   ]
  },
  {
   "cell_type": "code",
   "execution_count": 11,
   "metadata": {},
   "outputs": [
    {
     "name": "stdout",
     "output_type": "stream",
     "text": [
      "✔ functions.py cargado en 'functions_namespace' (llaves: ['__builtins__', 'pandas', 'plot_selected', 'show_global_view', 'show_local_view', 'plot_shap_values', 'next_button_clicked', 'prev_button_clicked', 'refresh_button_clicked']...)\n",
      "✔ Cargado: ./data/case_interest_lc.pkl  — shape: (181, 2001)\n",
      "✔ Cargado: ./data/predicted_planets_shaps.pkl  — shape: (3724, 715)\n"
     ]
    }
   ],
   "source": [
    "# Cell: Setup inicial seguro para Jupyter\n",
    "import os\n",
    "import traceback\n",
    "\n",
    "import lightkurve as lk\n",
    "import pandas as pd\n",
    "import matplotlib.pyplot as plt\n",
    "from IPython.display import Markdown, display, clear_output\n",
    "import ipywidgets as widgets\n",
    "\n",
    "# helper para mostrar Markdown\n",
    "def printmd(string):\n",
    "    display(Markdown(string))\n",
    "\n",
    "# Activa plots inline en Jupyter\n",
    "%matplotlib inline\n",
    "\n",
    "# --- Cargar functions.py de forma segura (si existe) ---\n",
    "functions_namespace = {}\n",
    "functions_path = 'functions.py'\n",
    "if os.path.exists(functions_path):\n",
    "    try:\n",
    "        with open(functions_path, 'r', encoding='utf-8') as f:\n",
    "            code = f.read()\n",
    "        # Ejecutar en un namespace separado para evitar contaminación del global\n",
    "        exec(compile(code, functions_path, 'exec'), functions_namespace)\n",
    "        print(f\"✔ functions.py cargado en 'functions_namespace' (llaves: {list(functions_namespace.keys())[:10]}...)\")\n",
    "    except Exception:\n",
    "        print(f\"✖ Error al ejecutar {functions_path}:\")\n",
    "        traceback.print_exc()\n",
    "else:\n",
    "    print(f\"⚠ No se encontró {functions_path}. Continúa sin él (asegúrate de colocarlo en el mismo directorio si lo necesitas).\")\n",
    "\n",
    "# --- Función segura para leer pickles (evita romper si falta el archivo) ---\n",
    "def safe_read_pickle(path):\n",
    "    if os.path.exists(path):\n",
    "        try:\n",
    "            df = pd.read_pickle(path)\n",
    "            print(f\"✔ Cargado: {path}  — shape: {getattr(df, 'shape', 'unknown')}\")\n",
    "            return df\n",
    "        except Exception:\n",
    "            print(f\"✖ Error leyendo {path}:\")\n",
    "            traceback.print_exc()\n",
    "            return None\n",
    "    else:\n",
    "        print(f\"⚠ No se encontró: {path}\")\n",
    "        return None\n",
    "\n",
    "# --- Cargar los dataframes que necesitas ---\n",
    "case_interest_lc = safe_read_pickle('./data/case_interest_lc.pkl')\n",
    "predicted_planets_shaps = safe_read_pickle('./data/predicted_planets_shaps.pkl')\n",
    "\n",
    "# Si no existen, dejar DataFrames vacíos para no romper el resto del notebook\n",
    "if case_interest_lc is None:\n",
    "    case_interest_lc = pd.DataFrame()\n",
    "if predicted_planets_shaps is None:\n",
    "    predicted_planets_shaps = pd.DataFrame()\n"
   ]
  },
  {
   "cell_type": "code",
   "execution_count": 12,
   "metadata": {},
   "outputs": [
    {
     "name": "stdout",
     "output_type": "stream",
     "text": [
      "✔ Callback 'refresh_button_clicked' conectado a Refresh\n",
      "✔ Callback 'next_button_clicked' conectado a Next Case\n",
      "✔ Callback 'prev_button_clicked' conectado a Previous Case\n"
     ]
    },
    {
     "data": {
      "application/vnd.jupyter.widget-view+json": {
       "model_id": "98b3eba3b3e7497794592c732a934c68",
       "version_major": 2,
       "version_minor": 0
      },
      "text/plain": [
       "VBox(children=(HBox(children=(Button(button_style='danger', description='Previous Case', layout=Layout(width='…"
      ]
     },
     "metadata": {},
     "output_type": "display_data"
    }
   ],
   "source": [
    "# Cell: Configuración de widgets interactivos\n",
    "import ipywidgets as widgets\n",
    "from IPython.display import display\n",
    "\n",
    "# --- Crear botones y elementos de UI ---\n",
    "next_button = widgets.Button(\n",
    "    description='Next Case',\n",
    "    disabled=False,\n",
    "    button_style='success',\n",
    "    layout=widgets.Layout(width='50%')\n",
    ")\n",
    "prev_button = widgets.Button(\n",
    "    description='Previous Case',\n",
    "    disabled=False,\n",
    "    button_style='danger',\n",
    "    layout=widgets.Layout(width='50%')\n",
    ")\n",
    "dropdown = widgets.Dropdown(\n",
    "    options=['Global View', 'Folded View', 'SHAP Values'],\n",
    "    value='Global View',\n",
    "    description='Data Type:',\n",
    "    disabled=False,\n",
    "    layout=widgets.Layout(width='50%')\n",
    ")\n",
    "refresh_button = widgets.Button(\n",
    "    description='Refresh',\n",
    "    disabled=False,\n",
    "    button_style='info',\n",
    "    layout=widgets.Layout(width='50%')\n",
    ")\n",
    "out = widgets.Output(layout={'border': '1px solid black', 'padding': '10px'})\n",
    "ix = 0  # índice del caso actual\n",
    "\n",
    "# --- Asignar callbacks de forma segura ---\n",
    "def safe_connect(button, func_name):\n",
    "    \"\"\"Conecta el botón a la función si existe en functions_namespace.\"\"\"\n",
    "    func = functions_namespace.get(func_name)\n",
    "    if callable(func):\n",
    "        button.on_click(func)\n",
    "        print(f\"✔ Callback '{func_name}' conectado a {button.description}\")\n",
    "    else:\n",
    "        print(f\"⚠ No se encontró '{func_name}' en functions.py — {button.description} sin acción.\")\n",
    "\n",
    "safe_connect(refresh_button, 'refresh_button_clicked')\n",
    "safe_connect(next_button, 'next_button_clicked')\n",
    "safe_connect(prev_button, 'prev_button_clicked')\n",
    "\n",
    "# --- Construcción de la interfaz ---\n",
    "uphbox = widgets.HBox([dropdown, refresh_button])\n",
    "buttons = widgets.HBox([prev_button, next_button])\n",
    "ui = widgets.VBox([buttons, uphbox, out])\n",
    "\n",
    "display(ui)\n"
   ]
  }
 ],
 "metadata": {
  "kernelspec": {
   "display_name": ".venv",
   "language": "python",
   "name": "python3"
  },
  "language_info": {
   "codemirror_mode": {
    "name": "ipython",
    "version": 3
   },
   "file_extension": ".py",
   "mimetype": "text/x-python",
   "name": "python",
   "nbconvert_exporter": "python",
   "pygments_lexer": "ipython3",
   "version": "3.12.10"
  }
 },
 "nbformat": 4,
 "nbformat_minor": 2
}
